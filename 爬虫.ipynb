{
 "cells": [
  {
   "cell_type": "code",
   "execution_count": 1,
   "metadata": {},
   "outputs": [],
   "source": [
    "import requests\n",
    "import json \n",
    "import time\n",
    "import pandas as pd \n",
    "from io import StringIO\n",
    "import numpy as np\n",
    "from tqdm import tqdm\n",
    "import math\n",
    "import os \n",
    "import sys \n",
    "from scipy.optimize import curve_fit\n",
    "import requests\n",
    "# lxml解析库：https://www.cnblogs.com/zhangxinqi/p/9210211.html#_label4\n",
    "from lxml import etree"
   ]
  },
  {
   "cell_type": "code",
   "execution_count": 89,
   "metadata": {},
   "outputs": [
    {
     "name": "stdout",
     "output_type": "stream",
     "text": [
      "        type     name anchor rank\n",
      "0  起点签约作者新书榜     白骨大圣     咬火    1\n",
      "0  起点签约作者新书榜      武谪仙  流浪的蛤蟆    2\n",
      "0  起点签约作者新书榜     拯救全球   横扫天涯    3\n",
      "0  起点签约作者新书榜   南明第一狠人   一袖乾坤    4\n",
      "0  起点签约作者新书榜      神魔书     血红    5\n",
      "0  起点签约作者新书榜  我在大唐有后台   山下出水    6\n",
      "0  起点签约作者新书榜      大梦主     忘语    7\n",
      "0  起点签约作者新书榜    大唐杨国舅     天子    8\n",
      "0  起点签约作者新书榜     梦境封神     羽民    9\n",
      "0  起点签约作者新书榜     商海争锋    鸿蒙树   10\n"
     ]
    }
   ],
   "source": [
    "# 起点签约作者新书榜（前10）\n",
    "r = requests.get('https://www.qidian.com/rank/signnewbook?style=2')\n",
    "selector=etree.HTML(r.text)\n",
    "df=pd.DataFrame()\n",
    "for i in range(1,11): \n",
    "    str1='//tr[@data-rid=\"%s\"]'%(i)\n",
    "    str2='.//span[@class=\"rank-tag no%s\"]'%(i)    \n",
    "    book1= selector.xpath(str1)[0]\n",
    "    name = book1.xpath('.//a[@class=\"name\"]')[0].text\n",
    "    anchor = book1.xpath('.//a[@class=\"author\"]')[0].text\n",
    "    rank=book1.xpath(str2)[0].text\n",
    "    data = {'type':\"起点签约作者新书榜\",'name':[name],'anchor':[anchor],'rank':[rank]}\n",
    "    frame= pd.DataFrame(data)\n",
    "    df=df.append(frame)\n",
    "print(df)\n",
    "\n"
   ]
  },
  {
   "cell_type": "code",
   "execution_count": 90,
   "metadata": {},
   "outputs": [
    {
     "name": "stdout",
     "output_type": "stream",
     "text": [
      "        type       name  anchor rank\n",
      "0  起点公众作者新书榜  我们驸马爷太谨慎了    探手摘星    1\n",
      "0  起点公众作者新书榜    我在美国写网文   为戒烟写字    2\n",
      "0  起点公众作者新书榜      东朝英雄传    澜台公子    3\n",
      "0  起点公众作者新书榜    开局变成一只猫    NO一1    4\n",
      "0  起点公众作者新书榜       剑卒过河      惰堕    5\n",
      "0  起点公众作者新书榜    开局一棵技能树  唐伯虎的邻居    6\n",
      "0  起点公众作者新书榜       黑石密码     三脚架    7\n",
      "0  起点公众作者新书榜       大周仙吏     荣小荣    8\n",
      "0  起点公众作者新书榜       生存副本    妙笔无痕    9\n",
      "0  起点公众作者新书榜       未来狩则  作家早安夏天   10\n"
     ]
    }
   ],
   "source": [
    "# 起点公众作者新书榜（前10）\n",
    "r = requests.get('https://www.qidian.com/rank/pubnewbook?style=2')\n",
    "selector=etree.HTML(r.text)\n",
    "df1=pd.DataFrame()\n",
    "for i in range(1,11): \n",
    "    str1='//tr[@data-rid=\"%s\"]'%(i)\n",
    "    str2='.//span[@class=\"rank-tag no%s\"]'%(i)    \n",
    "    book1= selector.xpath(str1)[0]\n",
    "    name = book1.xpath('.//a[@class=\"name\"]')[0].text\n",
    "    anchor = book1.xpath('.//a[@class=\"author\"]')[0].text\n",
    "    rank=book1.xpath(str2)[0].text\n",
    "    data = {'type':\"起点公众作者新书榜\",'name':[name],'anchor':[anchor],'rank':[rank]}\n",
    "    frame= pd.DataFrame(data)\n",
    "    df1=df1.append(frame)\n",
    "print(df1)"
   ]
  },
  {
   "cell_type": "code",
   "execution_count": 96,
   "metadata": {},
   "outputs": [
    {
     "name": "stdout",
     "output_type": "stream",
     "text": [
      "    type       name  anchor rank\n",
      "0  起点销量榜       万族之劫   老鹰吃小鸡    1\n",
      "0  起点销量榜  我师兄实在太稳健了    言归正传    2\n",
      "0  起点销量榜       诡秘之主  爱潜水的乌贼    3\n",
      "0  起点销量榜       第一序列  会说话的肘子    4\n",
      "0  起点销量榜    我真没想重生啊   柳岸花又明    5\n",
      "0  起点销量榜      大奉打更人   卖报小郎君    6\n",
      "0  起点销量榜    平平无奇大师兄    黑夜弥天    7\n",
      "0  起点销量榜  亏成首富从游戏开始    青衫取醉    8\n",
      "0  起点销量榜      超神机械师     齐佩甲    9\n",
      "0  起点销量榜      道长去哪了     八宝饭   10\n",
      "0  起点销量榜       烂柯棋缘     真费事   11\n",
      "0  起点销量榜  我真没想当救世主啊     火中物   12\n",
      "0  起点销量榜    当医生开了外挂   手握寸关尺   13\n",
      "0  起点销量榜   我在盘丝洞养蜘蛛     昆吾奇   14\n",
      "0  起点销量榜       轮回乐园   那一只蚊子   15\n",
      "0  起点销量榜      精灵掌门人    轻泉流响   16\n",
      "0  起点销量榜       诸天尽头     凤嘲凰   17\n",
      "0  起点销量榜         赘婿   愤怒的香蕉   18\n",
      "0  起点销量榜       黎明之剑      远瞳   19\n",
      "0  起点销量榜       九星毒奶       育   20\n"
     ]
    }
   ],
   "source": [
    "# 起点销量榜（前20）\n",
    "r = requests.get('https://www.qidian.com/rank/hotsales?style=2')\n",
    "selector=etree.HTML(r.text)\n",
    "df2=pd.DataFrame()\n",
    "for i in range(1,21): \n",
    "    str1='//tr[@data-rid=\"%s\"]'%(i)\n",
    "    str2='.//span[@class=\"rank-tag no%s\"]'%(i)    \n",
    "    book1= selector.xpath(str1)[0]\n",
    "    name = book1.xpath('.//a[@class=\"name\"]')[0].text\n",
    "    anchor = book1.xpath('.//a[@class=\"author\"]')[0].text\n",
    "    rank=book1.xpath(str2)[0].text\n",
    "    data = {'type':\"起点销量榜\",'name':[name],'anchor':[anchor],'rank':[rank]}\n",
    "    frame= pd.DataFrame(data)\n",
    "    df2=df2.append(frame)\n",
    "print(df2)"
   ]
  },
  {
   "cell_type": "code",
   "execution_count": 97,
   "metadata": {},
   "outputs": [
    {
     "name": "stdout",
     "output_type": "stream",
     "text": [
      "        type       name  anchor rank\n",
      "0  起点签约作者新书榜       白骨大圣      咬火    1\n",
      "0  起点签约作者新书榜        武谪仙   流浪的蛤蟆    2\n",
      "0  起点签约作者新书榜       拯救全球    横扫天涯    3\n",
      "0  起点签约作者新书榜     南明第一狠人    一袖乾坤    4\n",
      "0  起点签约作者新书榜        神魔书      血红    5\n",
      "0  起点签约作者新书榜    我在大唐有后台    山下出水    6\n",
      "0  起点签约作者新书榜        大梦主      忘语    7\n",
      "0  起点签约作者新书榜      大唐杨国舅      天子    8\n",
      "0  起点签约作者新书榜       梦境封神      羽民    9\n",
      "0  起点签约作者新书榜       商海争锋     鸿蒙树   10\n",
      "0  起点公众作者新书榜  我们驸马爷太谨慎了    探手摘星    1\n",
      "0  起点公众作者新书榜    我在美国写网文   为戒烟写字    2\n",
      "0  起点公众作者新书榜      东朝英雄传    澜台公子    3\n",
      "0  起点公众作者新书榜    开局变成一只猫    NO一1    4\n",
      "0  起点公众作者新书榜       剑卒过河      惰堕    5\n",
      "0  起点公众作者新书榜    开局一棵技能树  唐伯虎的邻居    6\n",
      "0  起点公众作者新书榜       黑石密码     三脚架    7\n",
      "0  起点公众作者新书榜       大周仙吏     荣小荣    8\n",
      "0  起点公众作者新书榜       生存副本    妙笔无痕    9\n",
      "0  起点公众作者新书榜       未来狩则  作家早安夏天   10\n",
      "0      起点销量榜       万族之劫   老鹰吃小鸡    1\n",
      "0      起点销量榜  我师兄实在太稳健了    言归正传    2\n",
      "0      起点销量榜       诡秘之主  爱潜水的乌贼    3\n",
      "0      起点销量榜       第一序列  会说话的肘子    4\n",
      "0      起点销量榜    我真没想重生啊   柳岸花又明    5\n",
      "0      起点销量榜      大奉打更人   卖报小郎君    6\n",
      "0      起点销量榜    平平无奇大师兄    黑夜弥天    7\n",
      "0      起点销量榜  亏成首富从游戏开始    青衫取醉    8\n",
      "0      起点销量榜      超神机械师     齐佩甲    9\n",
      "0      起点销量榜      道长去哪了     八宝饭   10\n",
      "0      起点销量榜       烂柯棋缘     真费事   11\n",
      "0      起点销量榜  我真没想当救世主啊     火中物   12\n",
      "0      起点销量榜    当医生开了外挂   手握寸关尺   13\n",
      "0      起点销量榜   我在盘丝洞养蜘蛛     昆吾奇   14\n",
      "0      起点销量榜       轮回乐园   那一只蚊子   15\n",
      "0      起点销量榜      精灵掌门人    轻泉流响   16\n",
      "0      起点销量榜       诸天尽头     凤嘲凰   17\n",
      "0      起点销量榜         赘婿   愤怒的香蕉   18\n",
      "0      起点销量榜       黎明之剑      远瞳   19\n",
      "0      起点销量榜       九星毒奶       育   20\n"
     ]
    }
   ],
   "source": [
    "df_total=pd.DataFrame()\n",
    "df_total=df.append(df1)\n",
    "df_total=df_total.append(df2)\n",
    "print(df_total)"
   ]
  },
  {
   "cell_type": "code",
   "execution_count": null,
   "metadata": {},
   "outputs": [],
   "source": [
    "filepath =\"/Users/xmly/Downloads/pachong_qidian.csv\"\n",
    "df_total.to_csv(filepath, index=False,encoding='utf_8_sig')\n"
   ]
  },
  {
   "cell_type": "code",
   "execution_count": 174,
   "metadata": {},
   "outputs": [
    {
     "name": "stdout",
     "output_type": "stream",
     "text": [
      "    type     name rank\n",
      "0  纵横新书榜     超级雷修    4\n",
      "0  纵横新书榜    一剑名南七    5\n",
      "0  纵横新书榜     废土行者    6\n",
      "0  纵横新书榜  仙界废柴混都市    7\n",
      "0  纵横新书榜     长安七日    8\n",
      "0  纵横新书榜    天子奈若何    9\n",
      "0  纵横新书榜    佛门一朵花   10\n",
      "0  纵横新书榜      云为道   11\n",
      "0  纵横新书榜     天玄帝传   12\n",
      "0  纵横新书榜     至暗时期   13\n",
      "0  纵横新书榜     万辰之始   14\n",
      "0  纵横新书榜  我在都市当灵探   15\n",
      "0  纵横新书榜     举世之境   16\n",
      "0  纵横新书榜     极武界域   17\n",
      "0  纵横新书榜  大小姐上门女婿   18\n",
      "0  纵横新书榜    西行斋异闻   19\n",
      "0  纵横新书榜    万界指挥官   20\n"
     ]
    }
   ],
   "source": [
    "# 纵横新书榜\n",
    "# 前三个规则不同\n",
    "df1=pd.DataFrame()\n",
    "for j in range(1,2):\n",
    "    str0='http://www.zongheng.com/rank/details.html?rt=4&d=1&p=%s'%(j)\n",
    "    r=requests.get(str0)\n",
    "    selector=etree.HTML(r.text)\n",
    "    df0=pd.DataFrame()\n",
    "    for i in range(4,21):\n",
    "#         str1='.//div[@class=\"rank_d_icon rank_d_b_num rank_d_b_num%s fr\"]'%(i)\n",
    "        book1=selector.xpath('//div[@class=\"rank_d_list borderB_c_dsh clearfix\"]')[i-1]\n",
    "        name=book1.xpath('.//div[@class=\"rank_d_b_name\"]')[0].attrib['title']\n",
    "        rank=book1.xpath('.//div[@class=\"rank_d_icon rank_d_b_num rank_d_b_num-1 fr\"]')[0].text\n",
    "        data = {'type':\"纵横新书榜\",'name':[name],'rank':[rank]}\n",
    "        frame= pd.DataFrame(data)\n",
    "        df0=df0.append(frame)\n",
    "    df1=df1.append(df0)    \n",
    "print(df1)\n",
    "\n",
    "\n"
   ]
  },
  {
   "cell_type": "code",
   "execution_count": 175,
   "metadata": {},
   "outputs": [
    {
     "name": "stdout",
     "output_type": "stream",
     "text": [
      "    type  name rank\n",
      "0  纵横新书榜  渡劫之王    1\n",
      "0  纵横新书榜  不让江山    2\n",
      "0  纵横新书榜  陆地键仙    3\n"
     ]
    }
   ],
   "source": [
    "# 前3名\n",
    "df2=pd.DataFrame()\n",
    "for j in range(1,2):\n",
    "    str0='http://www.zongheng.com/rank/details.html?rt=4&d=1&p=%s'%(j)\n",
    "    r=requests.get(str0)\n",
    "    selector=etree.HTML(r.text)\n",
    "    df0=pd.DataFrame()\n",
    "    for i in range(1,4):\n",
    "        str1='.//div[@class=\"rank_d_icon rank_d_b_num rank_d_b_num%s fr\"]'%(i)\n",
    "        book1=selector.xpath('//div[@class=\"rank_d_list borderB_c_dsh clearfix\"]')[i-1]\n",
    "        name=book1.xpath('.//div[@class=\"rank_d_b_name\"]')[0].attrib['title']\n",
    "        rank=book1.xpath(str1)[0].text\n",
    "        data = {'type':\"纵横新书榜\",'name':[name],'rank':[rank]}\n",
    "        frame= pd.DataFrame(data)\n",
    "        df0=df0.append(frame)\n",
    "    df2=df2.append(df0)    \n",
    "print(df2)"
   ]
  },
  {
   "cell_type": "code",
   "execution_count": 176,
   "metadata": {},
   "outputs": [
    {
     "name": "stdout",
     "output_type": "stream",
     "text": [
      "    type    name rank\n",
      "0  纵横畅销榜    一剑独尊    4\n",
      "0  纵横畅销榜    剑仙在此    5\n",
      "0  纵横畅销榜   雪中悍刀行    6\n",
      "0  纵横畅销榜  遣返者的游戏    7\n",
      "0  纵横畅销榜    赘婿出山    8\n",
      "0  纵横畅销榜      元尊    9\n",
      "0  纵横畅销榜      踏星   10\n",
      "0  纵横畅销榜   剑道第一仙   11\n",
      "0  纵横畅销榜    长宁帝军   12\n",
      "0  纵横畅销榜    非洲酋长   13\n",
      "0  纵横畅销榜    帝道独尊   14\n",
      "0  纵横畅销榜    大国名厨   15\n",
      "0  纵横畅销榜    偷香高手   16\n",
      "0  纵横畅销榜    无敌剑域   17\n",
      "0  纵横畅销榜    日月风华   18\n",
      "0  纵横畅销榜    天骄战纪   19\n",
      "0  纵横畅销榜    帝世无双   20\n"
     ]
    }
   ],
   "source": [
    "# 纵横畅销榜\n",
    "# 前三个规则不同\n",
    "df3=pd.DataFrame()\n",
    "for j in range(1,2):\n",
    "    str0='http://www.zongheng.com/rank/details.html?rt=3&d=1&p=%s'%(j)\n",
    "    r=requests.get(str0)\n",
    "    selector=etree.HTML(r.text)\n",
    "    df0=pd.DataFrame()\n",
    "    for i in range(4,21):\n",
    "#         str1='.//div[@class=\"rank_d_icon rank_d_b_num rank_d_b_num%s fr\"]'%(i)\n",
    "        book1=selector.xpath('//div[@class=\"rank_d_list borderB_c_dsh clearfix\"]')[i-1]\n",
    "        name=book1.xpath('.//div[@class=\"rank_d_b_name\"]')[0].attrib['title']\n",
    "        rank=book1.xpath('.//div[@class=\"rank_d_icon rank_d_b_num rank_d_b_num-1 fr\"]')[0].text\n",
    "        data = {'type':\"纵横畅销榜\",'name':[name],'rank':[rank]}\n",
    "        frame= pd.DataFrame(data)\n",
    "        df0=df0.append(frame)\n",
    "    df3=df3.append(df0)    \n",
    "print(df3)"
   ]
  },
  {
   "cell_type": "code",
   "execution_count": 177,
   "metadata": {},
   "outputs": [
    {
     "name": "stdout",
     "output_type": "stream",
     "text": [
      "    type  name rank\n",
      "0  纵横畅销榜    剑来    1\n",
      "0  纵横畅销榜  逆天邪神    2\n",
      "0  纵横畅销榜  最强狂兵    3\n"
     ]
    }
   ],
   "source": [
    "# 纵横畅销榜\n",
    "# 前3名\n",
    "df4=pd.DataFrame()\n",
    "for j in range(1,2):\n",
    "    str0='http://www.zongheng.com/rank/details.html?rt=3&d=1&p=%s'%(j)\n",
    "    r=requests.get(str0)\n",
    "    selector=etree.HTML(r.text)\n",
    "    df0=pd.DataFrame()\n",
    "    for i in range(1,4):\n",
    "        str1='.//div[@class=\"rank_d_icon rank_d_b_num rank_d_b_num%s fr\"]'%(i)\n",
    "        book1=selector.xpath('//div[@class=\"rank_d_list borderB_c_dsh clearfix\"]')[i-1]\n",
    "        name=book1.xpath('.//div[@class=\"rank_d_b_name\"]')[0].attrib['title']\n",
    "        rank=book1.xpath(str1)[0].text\n",
    "        data = {'type':\"纵横畅销榜\",'name':[name],'rank':[rank]}\n",
    "        frame= pd.DataFrame(data)\n",
    "        df0=df0.append(frame)\n",
    "    df4=df4.append(df0)    \n",
    "print(df4)"
   ]
  },
  {
   "cell_type": "code",
   "execution_count": 178,
   "metadata": {},
   "outputs": [
    {
     "name": "stdout",
     "output_type": "stream",
     "text": [
      "    type     name rank\n",
      "0  纵横新书榜     超级雷修    4\n",
      "0  纵横新书榜    一剑名南七    5\n",
      "0  纵横新书榜     废土行者    6\n",
      "0  纵横新书榜  仙界废柴混都市    7\n",
      "0  纵横新书榜     长安七日    8\n",
      "0  纵横新书榜    天子奈若何    9\n",
      "0  纵横新书榜    佛门一朵花   10\n",
      "0  纵横新书榜      云为道   11\n",
      "0  纵横新书榜     天玄帝传   12\n",
      "0  纵横新书榜     至暗时期   13\n",
      "0  纵横新书榜     万辰之始   14\n",
      "0  纵横新书榜  我在都市当灵探   15\n",
      "0  纵横新书榜     举世之境   16\n",
      "0  纵横新书榜     极武界域   17\n",
      "0  纵横新书榜  大小姐上门女婿   18\n",
      "0  纵横新书榜    西行斋异闻   19\n",
      "0  纵横新书榜    万界指挥官   20\n",
      "0  纵横新书榜     渡劫之王    1\n",
      "0  纵横新书榜     不让江山    2\n",
      "0  纵横新书榜     陆地键仙    3\n",
      "0  纵横畅销榜     一剑独尊    4\n",
      "0  纵横畅销榜     剑仙在此    5\n",
      "0  纵横畅销榜    雪中悍刀行    6\n",
      "0  纵横畅销榜   遣返者的游戏    7\n",
      "0  纵横畅销榜     赘婿出山    8\n",
      "0  纵横畅销榜       元尊    9\n",
      "0  纵横畅销榜       踏星   10\n",
      "0  纵横畅销榜    剑道第一仙   11\n",
      "0  纵横畅销榜     长宁帝军   12\n",
      "0  纵横畅销榜     非洲酋长   13\n",
      "0  纵横畅销榜     帝道独尊   14\n",
      "0  纵横畅销榜     大国名厨   15\n",
      "0  纵横畅销榜     偷香高手   16\n",
      "0  纵横畅销榜     无敌剑域   17\n",
      "0  纵横畅销榜     日月风华   18\n",
      "0  纵横畅销榜     天骄战纪   19\n",
      "0  纵横畅销榜     帝世无双   20\n",
      "0  纵横畅销榜       剑来    1\n",
      "0  纵横畅销榜     逆天邪神    2\n",
      "0  纵横畅销榜     最强狂兵    3\n"
     ]
    }
   ],
   "source": [
    "df_total1=pd.DataFrame()\n",
    "df_total1=df1.append(df2)\n",
    "df_total1=df_total1.append(df3)\n",
    "df_total1=df_total1.append(df4)\n",
    "print(df_total1)"
   ]
  },
  {
   "cell_type": "code",
   "execution_count": 179,
   "metadata": {},
   "outputs": [],
   "source": [
    "filepath =\"/Users/xmly/Downloads/pachong_zongheng_2.csv\"\n",
    "df_total1.to_csv(filepath, index=False,encoding='utf_8_sig')"
   ]
  },
  {
   "cell_type": "code",
   "execution_count": 99,
   "metadata": {},
   "outputs": [],
   "source": []
  }
 ],
 "metadata": {
  "kernelspec": {
   "display_name": "Python 3",
   "language": "python",
   "name": "python3"
  },
  "language_info": {
   "codemirror_mode": {
    "name": "ipython",
    "version": 3
   },
   "file_extension": ".py",
   "mimetype": "text/x-python",
   "name": "python",
   "nbconvert_exporter": "python",
   "pygments_lexer": "ipython3",
   "version": "3.7.3"
  }
 },
 "nbformat": 4,
 "nbformat_minor": 2
}
